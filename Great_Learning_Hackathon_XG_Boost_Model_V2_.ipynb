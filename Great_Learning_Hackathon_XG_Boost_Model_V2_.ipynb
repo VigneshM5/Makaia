{
  "nbformat": 4,
  "nbformat_minor": 0,
  "metadata": {
    "colab": {
      "name": "Great_Learning_Hackathon_XG Boost Model V2 .ipynb",
      "provenance": [],
      "collapsed_sections": []
    },
    "kernelspec": {
      "name": "python3",
      "display_name": "Python 3"
    }
  },
  "cells": [
    {
      "cell_type": "code",
      "metadata": {
        "id": "h4DxmI2svEw3",
        "colab_type": "code",
        "outputId": "597ea5a7-f87e-47b4-a4aa-ed0cb44e7f11",
        "colab": {
          "base_uri": "https://localhost:8080/",
          "height": 123
        }
      },
      "source": [
        "#import moduels\n",
        "import pandas as pd\n",
        "import numpy as np\n",
        "import seaborn as sns\n",
        "import matplotlib.pyplot as plt\n",
        "from pandas_profiling import ProfileReport\n",
        "%matplotlib inline  \n",
        "import glob\n",
        "import tensorflow as tf\n",
        "import numpy as np\n",
        "import h5py\n",
        "import math\n",
        "import time\n",
        "from random import shuffle\n",
        "import matplotlib.pyplot as plt\n",
        "from sklearn.preprocessing import MinMaxScaler\n",
        "import seaborn as sns\n",
        "from sklearn.metrics import classification_report,confusion_matrix\n",
        "from sklearn import metrics\n",
        "from keras.optimizers import Adam, SGD\n",
        "from keras.layers import Flatten\n",
        "from keras.regularizers import l2\n",
        "from keras.layers import Input\n",
        "from keras import models\n",
        "import pandas as pd\n",
        "import numpy as np\n",
        "import seaborn as sns\n",
        "import matplotlib.pyplot as plt\n",
        "from keras.layers import Dense,add, Dropout, Activation\n",
        "from keras.models import Sequential\n",
        "from keras.callbacks import EarlyStopping, ModelCheckpoint, ReduceLROnPlateau\n",
        "from imblearn.over_sampling import SMOTE\n",
        "!pip install impyute"
      ],
      "execution_count": 0,
      "outputs": [
        {
          "output_type": "stream",
          "text": [
            "Requirement already satisfied: impyute in /usr/local/lib/python3.6/dist-packages (0.0.8)\n",
            "Requirement already satisfied: numpy in /usr/local/lib/python3.6/dist-packages (from impyute) (1.18.4)\n",
            "Requirement already satisfied: scipy in /usr/local/lib/python3.6/dist-packages (from impyute) (1.4.1)\n",
            "Requirement already satisfied: scikit-learn in /usr/local/lib/python3.6/dist-packages (from impyute) (0.22.2.post1)\n",
            "Requirement already satisfied: joblib>=0.11 in /usr/local/lib/python3.6/dist-packages (from scikit-learn->impyute) (0.14.1)\n"
          ],
          "name": "stdout"
        }
      ]
    },
    {
      "cell_type": "code",
      "metadata": {
        "id": "djB2ar6IvLnP",
        "colab_type": "code",
        "outputId": "07304f51-79b5-4df0-b8c4-023ad0d3d631",
        "colab": {
          "base_uri": "https://localhost:8080/",
          "height": 54
        }
      },
      "source": [
        "from google.colab import drive\n",
        "drive.mount('/content/drive')"
      ],
      "execution_count": 0,
      "outputs": [
        {
          "output_type": "stream",
          "text": [
            "Drive already mounted at /content/drive; to attempt to forcibly remount, call drive.mount(\"/content/drive\", force_remount=True).\n"
          ],
          "name": "stdout"
        }
      ]
    },
    {
      "cell_type": "code",
      "metadata": {
        "id": "bFOghCRhvLun",
        "colab_type": "code",
        "outputId": "86f66417-39ad-410f-e466-1a42149518ae",
        "colab": {
          "base_uri": "https://localhost:8080/",
          "height": 71
        }
      },
      "source": [
        "df  = pd.read_csv(\"/content/drive/My Drive/GreatLearning Hackathon /GS_data_V1.csv\", index_col=0)"
      ],
      "execution_count": 0,
      "outputs": [
        {
          "output_type": "stream",
          "text": [
            "/usr/local/lib/python3.6/dist-packages/IPython/core/interactiveshell.py:2718: DtypeWarning: Columns (11,13,14,51,55) have mixed types.Specify dtype option on import or set low_memory=False.\n",
            "  interactivity=interactivity, compiler=compiler, result=result)\n"
          ],
          "name": "stderr"
        }
      ]
    },
    {
      "cell_type": "code",
      "metadata": {
        "id": "olj5lPEYvLx9",
        "colab_type": "code",
        "colab": {}
      },
      "source": [
        "drop_list = df[['maturity_bond', 'duration_bond', '3yrs_treynor_ratio_category','5yrs_treynor_ratio_category','10yrs_treynor_ratio_fund', '10yrs_treynor_ratio_category', 'mmc']]\n",
        "df.drop(drop_list, axis = 1, inplace = True)"
      ],
      "execution_count": 0,
      "outputs": []
    },
    {
      "cell_type": "code",
      "metadata": {
        "id": "Sk_j0cLwJgWt",
        "colab_type": "code",
        "colab": {}
      },
      "source": [
        "df[\"ps_ratio\"] = df[\"ps_ratio\"].str.replace(\",\",\"\").astype(float)\n",
        "df[\"pc_ratio\"] = df[\"pc_ratio\"].str.replace(\",\",\"\").astype(float)\n",
        "df[\"pe_ratio\"] = df[\"pe_ratio\"].str.replace(\",\",\"\").astype(float)\n",
        "df[\"3yrs_treynor_ratio_fund\"] = df[\"3yrs_treynor_ratio_fund\"].str.replace(\",\",\"\").astype(float)\n",
        "df[\"5yrs_treynor_ratio_fund\"] = df[\"5yrs_treynor_ratio_fund\"].str.replace(\",\",\"\").astype(float)"
      ],
      "execution_count": 0,
      "outputs": []
    },
    {
      "cell_type": "code",
      "metadata": {
        "id": "7_4-qBaiMQEZ",
        "colab_type": "code",
        "outputId": "188058ae-15f7-46a5-f6de-c27a90883446",
        "colab": {
          "base_uri": "https://localhost:8080/",
          "height": 381
        }
      },
      "source": [
        "df.columns"
      ],
      "execution_count": 0,
      "outputs": [
        {
          "output_type": "execute_result",
          "data": {
            "text/plain": [
              "Index(['investment_class', 'total_assets', 'yield', 'greatstone_rating', 'tag',\n",
              "       'fund_size', 'return_ytd', 'fund_id', 'fund_ratio_net_annual_expense',\n",
              "       'pb_ratio', 'ps_ratio', 'pc_ratio', 'pe_ratio', 'bb_rating',\n",
              "       'below_b_rating', 'others_rating', 'b_rating', 'a_rating', 'aaa_rating',\n",
              "       'aa_rating', 'bbb_rating', 'portfolio_communication_allocation',\n",
              "       'portfolio_financial_services', 'portfolio_industrials_allocation',\n",
              "       'portfolio_tech_allocation', 'portfolio_materials_basic_allocation',\n",
              "       'portfolio_energy_allocation', 'portfolio_consumer_defence_allocation',\n",
              "       'portfolio_healthcare_allocation', 'portfolio_property_allocation',\n",
              "       'portfolio_utils_allocation', 'portfolio_cyclical_consumer_allocation',\n",
              "       'cash_percent_of_portfolio', 'stock_percent_of_portfolio',\n",
              "       'bond_percentage_of_porfolio', 'portfolio_convertable',\n",
              "       'portfolio_others', 'portfolio_preferred',\n",
              "       'category_ratio_net_annual_expense', '1_month_fund_return',\n",
              "       'fund_return_3months', 'ytd_return_fund', '2015_return_fund',\n",
              "       '2016_return_fund', '2017_return_fund', '2018_return_fund',\n",
              "       'years_down', '3yrs_treynor_ratio_fund', 'fund_return_3years',\n",
              "       '3_years_return_category', '5yrs_treynor_ratio_fund',\n",
              "       '5_years_return_fund', '5_years_return_category', 'category',\n",
              "       '10_years_return_fund', '10_years_return_category'],\n",
              "      dtype='object')"
            ]
          },
          "metadata": {
            "tags": []
          },
          "execution_count": 539
        }
      ]
    },
    {
      "cell_type": "code",
      "metadata": {
        "id": "Wm2GFavqUAIl",
        "colab_type": "code",
        "colab": {}
      },
      "source": [
        "df['yield'] = df['yield'].fillna(df.groupby(['investment_class', 'category'])['yield'].transform('mean'))\n",
        "df['return_ytd'] = df['return_ytd'].fillna(df.groupby(['category'])['return_ytd'].transform('mean'))\n",
        "df['5_years_return_category'] = df['5_years_return_category'].fillna(df.groupby(['category'])['5_years_return_category'].transform('mean'))\n",
        "df['10_years_return_category'] = df['10_years_return_category'].fillna(df.groupby(['category'])['10_years_return_category'].transform('mean'))\n",
        "df['3_years_return_category'] = df['3_years_return_category'].fillna(df.groupby(['category'])['3_years_return_category'].transform('mean'))\n",
        "df['fund_return_3years'] = df['fund_return_3years'].fillna(df.groupby(['category'])['fund_return_3years'].transform('mean'))\n",
        "df['5_years_return_fund'] = df['5_years_return_fund'].fillna(df.groupby(['category'])['5_years_return_fund'].transform('mean'))\n",
        "df['10_years_return_fund'] = df['10_years_return_fund'].fillna(df.groupby(['category'])['10_years_return_fund'].transform('mean'))\n",
        "df['fundVscat3yr'] = df['fund_return_3years'] - df['3_years_return_category']\n",
        "df['fundVscat5yr'] = df['5_years_return_fund'] - df['5_years_return_category']\n",
        "df['fundVscat10yr'] = df['10_years_return_fund'] - df['10_years_return_category']\n",
        "df['2016_return_fund'] = df['2016_return_fund'].fillna(df.groupby(['category'])['2016_return_fund'].transform('mean'))\n",
        "df['2017_return_fund'] = df['2017_return_fund'].fillna(df.groupby(['category'])['2017_return_fund'].transform('mean'))\n",
        "df['2018_return_fund'] = df['2018_return_fund'].fillna(df.groupby(['category'])['2018_return_fund'].transform('mean'))\n",
        "df['cash_percent_of_portfolio'] = df['cash_percent_of_portfolio'].fillna(df.groupby(['investment_class'])['cash_percent_of_portfolio'].transform('mean'))\n",
        "df['cash_percent_of_portfolio'] = df['cash_percent_of_portfolio'].fillna(df['cash_percent_of_portfolio'].mean())      \n",
        "df['portfolio_convertable'] = df['portfolio_convertable'].fillna(df.groupby(['investment_class'])['portfolio_convertable'].transform('mean'))\n",
        "df['portfolio_convertable'] = df['portfolio_convertable'].fillna(df['portfolio_convertable'].mean())   \n",
        "\n",
        "df['portfolio_others'] = df['portfolio_others'].fillna(df.groupby(['investment_class'])['portfolio_others'].transform('mean'))\n",
        "df['portfolio_others'] = df['portfolio_others'].fillna(df['portfolio_others'].mean())      \n",
        "\n",
        "df['portfolio_preferred'] = df['portfolio_preferred'].fillna(df.groupby(['investment_class'])['portfolio_preferred'].transform('mean'))\n",
        "df['portfolio_preferred'] = df['portfolio_preferred'].fillna(df['portfolio_preferred'].mean())     \n",
        "\n",
        "df['3yrs_treynor_ratio_fund'] = df['3yrs_treynor_ratio_fund'].fillna(df.groupby(['category'])['3yrs_treynor_ratio_fund'].transform('mean'))\n",
        "df['3yrs_treynor_ratio_fund'] = df['3yrs_treynor_ratio_fund'].fillna(df['3yrs_treynor_ratio_fund'].mean())    \n"
      ],
      "execution_count": 0,
      "outputs": []
    },
    {
      "cell_type": "code",
      "metadata": {
        "id": "hAw5whLKhvpH",
        "colab_type": "code",
        "colab": {}
      },
      "source": [
        "df['fundVscat3yr'] = df['fund_return_3years'] - df['3_years_return_category']\n",
        "df['fundVscat5yr'] = df['5_years_return_fund'] - df['5_years_return_category']\n",
        "df['fundVscat10yr'] = df['10_years_return_fund'] - df['10_years_return_category']"
      ],
      "execution_count": 0,
      "outputs": []
    },
    {
      "cell_type": "code",
      "metadata": {
        "id": "1fy2QCACt4qV",
        "colab_type": "code",
        "colab": {}
      },
      "source": [
        "def fast_mode(df, key_cols, value_col):\n",
        "    return (df.groupby(key_cols + [value_col]).size() \n",
        "              .to_frame('counts').reset_index() \n",
        "              .sort_values('counts', ascending=False) \n",
        "              .drop_duplicates(subset=key_cols)).drop(columns='counts')"
      ],
      "execution_count": 0,
      "outputs": []
    },
    {
      "cell_type": "code",
      "metadata": {
        "id": "M8-NN1squ1We",
        "colab_type": "code",
        "colab": {}
      },
      "source": [
        "df.loc[df.investment_class.isnull(), 'investment_class'] = df.category.map(fast_mode(df, ['category'], 'investment_class').set_index('category').investment_class)"
      ],
      "execution_count": 0,
      "outputs": []
    },
    {
      "cell_type": "code",
      "metadata": {
        "id": "iep7Svr4vM3M",
        "colab_type": "code",
        "colab": {}
      },
      "source": [
        "df.loc[df.fund_size.isnull(), 'fund_size'] = df.category.map(fast_mode(df, ['category'], 'fund_size').set_index('category').fund_size)"
      ],
      "execution_count": 0,
      "outputs": []
    },
    {
      "cell_type": "code",
      "metadata": {
        "id": "a7A1TXdqq5x_",
        "colab_type": "code",
        "outputId": "d6a3bffd-6404-4b20-eba9-d68dca34950f",
        "colab": {
          "base_uri": "https://localhost:8080/",
          "height": 86
        }
      },
      "source": [
        "df['fund_size'].value_counts()"
      ],
      "execution_count": 0,
      "outputs": [
        {
          "output_type": "execute_result",
          "data": {
            "text/plain": [
              "Large     14568\n",
              "Medium     6664\n",
              "Small      3755\n",
              "Name: fund_size, dtype: int64"
            ]
          },
          "metadata": {
            "tags": []
          },
          "execution_count": 544
        }
      ]
    },
    {
      "cell_type": "code",
      "metadata": {
        "id": "5zCWClK6wTTe",
        "colab_type": "code",
        "colab": {}
      },
      "source": [
        "df['portfolio_communication_allocation'] = df['portfolio_communication_allocation']*(df['stock_percent_of_portfolio']/100)\n",
        "df['portfolio_financial_services'] = df['portfolio_financial_services']*(df['stock_percent_of_portfolio']/100)\n",
        "df['portfolio_industrials_allocation'] = df['portfolio_industrials_allocation']*(df['stock_percent_of_portfolio']/100)\n",
        "df['portfolio_tech_allocation'] = df['portfolio_tech_allocation']*(df['stock_percent_of_portfolio']/100)\n",
        "df['portfolio_materials_basic_allocation'] = df['portfolio_materials_basic_allocation']*(df['stock_percent_of_portfolio']/100)\n",
        "df['portfolio_energy_allocation'] = df['portfolio_energy_allocation']*(df['stock_percent_of_portfolio']/100)\n",
        "df['portfolio_consumer_defence_allocation'] = df['portfolio_consumer_defence_allocation']*(df['stock_percent_of_portfolio']/100)\n",
        "df['portfolio_healthcare_allocation'] = df['portfolio_healthcare_allocation']*(df['stock_percent_of_portfolio']/100)\n",
        "df['portfolio_property_allocation'] = df['portfolio_property_allocation']*(df['stock_percent_of_portfolio']/100)\n",
        "df['portfolio_utils_allocation'] = df['portfolio_utils_allocation']*(df['stock_percent_of_portfolio']/100)\n",
        "df['portfolio_cyclical_consumer_allocation'] = df['portfolio_cyclical_consumer_allocation']*(df['stock_percent_of_portfolio']/100)\n",
        "df['bb_rating'] = df['bb_rating']*(df['bond_percentage_of_porfolio']/100)\n",
        "df['below_b_rating'] = df['below_b_rating']*(df['bond_percentage_of_porfolio']/100)\n",
        "df['others_rating'] = df['others_rating']*(df['bond_percentage_of_porfolio']/100)\n",
        "df['b_rating'] = df['b_rating']*(df['bond_percentage_of_porfolio']/100)\n",
        "df['a_rating'] = df['a_rating']*(df['bond_percentage_of_porfolio']/100)\n",
        "df['aaa_rating'] = df['aaa_rating']*(df['bond_percentage_of_porfolio']/100)\n",
        "df['bbb_rating'] = df['bbb_rating']*(df['bond_percentage_of_porfolio']/100)\n",
        "df['aa_rating'] = df['aa_rating']*(df['bond_percentage_of_porfolio']/100)\n"
      ],
      "execution_count": 0,
      "outputs": []
    },
    {
      "cell_type": "code",
      "metadata": {
        "id": "15a5SL1pw1Tr",
        "colab_type": "code",
        "colab": {}
      },
      "source": [
        "max_list = ['bb_rating',\n",
        "       'below_b_rating', 'others_rating', 'b_rating', 'a_rating', 'aaa_rating',\n",
        "       'aa_rating', 'bbb_rating', 'portfolio_communication_allocation',\n",
        "       'portfolio_financial_services', 'portfolio_industrials_allocation',\n",
        "       'portfolio_tech_allocation', 'portfolio_materials_basic_allocation',\n",
        "       'portfolio_energy_allocation', 'portfolio_consumer_defence_allocation',\n",
        "       'portfolio_healthcare_allocation', 'portfolio_property_allocation',\n",
        "       'portfolio_utils_allocation', 'portfolio_cyclical_consumer_allocation',\n",
        "       'cash_percent_of_portfolio' ]\n",
        "df['max_alloc'] = df[max_list].idxmax(axis=1)\n"
      ],
      "execution_count": 0,
      "outputs": []
    },
    {
      "cell_type": "code",
      "metadata": {
        "id": "ZITbkTe5vmmz",
        "colab_type": "code",
        "outputId": "bead8f59-32d3-4ef8-966c-19a25b002ce1",
        "colab": {
          "base_uri": "https://localhost:8080/",
          "height": 398
        }
      },
      "source": [
        "df.columns"
      ],
      "execution_count": 0,
      "outputs": [
        {
          "output_type": "execute_result",
          "data": {
            "text/plain": [
              "Index(['investment_class', 'total_assets', 'yield', 'greatstone_rating', 'tag',\n",
              "       'fund_size', 'return_ytd', 'fund_id', 'fund_ratio_net_annual_expense',\n",
              "       'pb_ratio', 'ps_ratio', 'pc_ratio', 'pe_ratio', 'bb_rating',\n",
              "       'below_b_rating', 'others_rating', 'b_rating', 'a_rating', 'aaa_rating',\n",
              "       'aa_rating', 'bbb_rating', 'portfolio_communication_allocation',\n",
              "       'portfolio_financial_services', 'portfolio_industrials_allocation',\n",
              "       'portfolio_tech_allocation', 'portfolio_materials_basic_allocation',\n",
              "       'portfolio_energy_allocation', 'portfolio_consumer_defence_allocation',\n",
              "       'portfolio_healthcare_allocation', 'portfolio_property_allocation',\n",
              "       'portfolio_utils_allocation', 'portfolio_cyclical_consumer_allocation',\n",
              "       'cash_percent_of_portfolio', 'stock_percent_of_portfolio',\n",
              "       'bond_percentage_of_porfolio', 'portfolio_convertable',\n",
              "       'portfolio_others', 'portfolio_preferred',\n",
              "       'category_ratio_net_annual_expense', '1_month_fund_return',\n",
              "       'fund_return_3months', 'ytd_return_fund', '2015_return_fund',\n",
              "       '2016_return_fund', '2017_return_fund', '2018_return_fund',\n",
              "       'years_down', '3yrs_treynor_ratio_fund', 'fund_return_3years',\n",
              "       '3_years_return_category', '5yrs_treynor_ratio_fund',\n",
              "       '5_years_return_fund', '5_years_return_category', 'category',\n",
              "       '10_years_return_fund', '10_years_return_category', 'fundVscat3yr',\n",
              "       'fundVscat5yr', 'fundVscat10yr', 'max_alloc'],\n",
              "      dtype='object')"
            ]
          },
          "metadata": {
            "tags": []
          },
          "execution_count": 548
        }
      ]
    },
    {
      "cell_type": "code",
      "metadata": {
        "id": "q9sh40gfMzoe",
        "colab_type": "code",
        "colab": {}
      },
      "source": [
        "samtrain = df[['return_ytd', '2017_return_fund', '2018_return_fund', '5_years_return_fund', 'fund_return_3years', 'fundVscat3yr', 'fundVscat5yr']]"
      ],
      "execution_count": 0,
      "outputs": []
    },
    {
      "cell_type": "code",
      "metadata": {
        "id": "jyWTlmhb5pnF",
        "colab_type": "code",
        "colab": {}
      },
      "source": [
        "#for col in samtrain.columns:\n",
        " #   percentiles = samtrain[col].quantile([0.05,0.95]).values\n",
        "  #  samtrain[col][samtrain[col] <= percentiles[0]] = percentiles[0]\n",
        "   # samtrain[col][samtrain[col] >= percentiles[1]] = percentiles[1]"
      ],
      "execution_count": 0,
      "outputs": []
    },
    {
      "cell_type": "code",
      "metadata": {
        "id": "_xOSxHZz1WGK",
        "colab_type": "code",
        "colab": {}
      },
      "source": [
        "from sklearn.preprocessing import RobustScaler"
      ],
      "execution_count": 0,
      "outputs": []
    },
    {
      "cell_type": "code",
      "metadata": {
        "id": "FoZ1mecGzHMI",
        "colab_type": "code",
        "colab": {}
      },
      "source": [
        "scaler = RobustScaler()\n"
      ],
      "execution_count": 0,
      "outputs": []
    },
    {
      "cell_type": "code",
      "metadata": {
        "id": "oVyQu0HQzHmy",
        "colab_type": "code",
        "colab": {}
      },
      "source": [
        "samtrain = pd.DataFrame(scaler.fit_transform(samtrain), columns = samtrain.columns)"
      ],
      "execution_count": 0,
      "outputs": []
    },
    {
      "cell_type": "code",
      "metadata": {
        "id": "BdYCnQYm-Me-",
        "colab_type": "code",
        "colab": {}
      },
      "source": [
        "#samtrain = samtrain.round(4)"
      ],
      "execution_count": 0,
      "outputs": []
    },
    {
      "cell_type": "code",
      "metadata": {
        "id": "1IeXgW2XMz0m",
        "colab_type": "code",
        "colab": {}
      },
      "source": [
        "#from impyute.imputation.cs import mice\n",
        "#imputed_training=mice(samtrain.values )\n",
        "#imputed_df = pd.DataFrame(imputed_training, columns = samtrain.columns)\n",
        "#imputed_df.shape\n",
        "#imputed_df.to_csv(\"/content/drive/My Drive/GreatLearning Hackathon /mice_imputed_asset.csv\")"
      ],
      "execution_count": 0,
      "outputs": []
    },
    {
      "cell_type": "code",
      "metadata": {
        "id": "WTbxcGSyxVfk",
        "colab_type": "code",
        "colab": {}
      },
      "source": [
        "#imputed_df = pd.read_csv(\"/content/drive/My Drive/GreatLearning Hackathon /mice_imputed_asset.csv\", index_col=0)"
      ],
      "execution_count": 0,
      "outputs": []
    },
    {
      "cell_type": "code",
      "metadata": {
        "id": "ekRqPJzo5XJ0",
        "colab_type": "code",
        "colab": {}
      },
      "source": [
        "df1 = df[[ 'tag', 'greatstone_rating', 'fund_id','max_alloc']] #, 'investment_class', 'fund_size', "
      ],
      "execution_count": 0,
      "outputs": []
    },
    {
      "cell_type": "code",
      "metadata": {
        "id": "j6rfSvMF52pU",
        "colab_type": "code",
        "colab": {}
      },
      "source": [
        "train_df = pd.concat([df1,samtrain], axis=1)"
      ],
      "execution_count": 0,
      "outputs": []
    },
    {
      "cell_type": "code",
      "metadata": {
        "id": "ZtVdAGG96LaT",
        "colab_type": "code",
        "outputId": "07ba4205-7e10-4482-bcd8-44b430730bcf",
        "colab": {
          "base_uri": "https://localhost:8080/",
          "height": 34
        }
      },
      "source": [
        "train_df.shape"
      ],
      "execution_count": 0,
      "outputs": [
        {
          "output_type": "execute_result",
          "data": {
            "text/plain": [
              "(25000, 11)"
            ]
          },
          "metadata": {
            "tags": []
          },
          "execution_count": 601
        }
      ]
    },
    {
      "cell_type": "code",
      "metadata": {
        "id": "PLVBCDyJJJBe",
        "colab_type": "code",
        "colab": {}
      },
      "source": [
        "train_df = pd.get_dummies(train_df, columns = [ 'max_alloc'], drop_first= True) #, 'investment_class', 'fund_size',\n",
        "key_df = df[['tag','fund_id']]"
      ],
      "execution_count": 0,
      "outputs": []
    },
    {
      "cell_type": "code",
      "metadata": {
        "id": "_ZNi0xqTvL3z",
        "colab_type": "code",
        "outputId": "49f4b90e-512e-4b22-80b3-208f2463a204",
        "colab": {
          "base_uri": "https://localhost:8080/",
          "height": 123
        }
      },
      "source": [
        "labels = df[['greatstone_rating']]\n",
        "submission = train_df[train_df['greatstone_rating'].isnull()]\n",
        "sub_key = submission[['tag','fund_id']]\n",
        "submission.drop(['tag','fund_id'], axis =1, inplace = True)\n",
        "train = train_df.dropna(subset=['greatstone_rating'])\n",
        "\n",
        "train.drop(['tag','fund_id'], axis =1, inplace = True)\n",
        "train = train.dropna()\n",
        "train_data = train.drop('greatstone_rating', axis = 1)\n",
        "#train_data2 = train_data[['2015_return_fund', '2017_return_fund', '2018_return_fund', 'fund_return_3years', '5_years_return_fund', '10_years_return_fund', 'fundVscat3yr', 'fundVscat5yr', 'fundVscat10yr']]\n",
        "train_label = train['greatstone_rating']\n",
        "X_sub = submission.drop('greatstone_rating', axis = 1)\n",
        "y_sub = submission['greatstone_rating']"
      ],
      "execution_count": 0,
      "outputs": [
        {
          "output_type": "stream",
          "text": [
            "/usr/local/lib/python3.6/dist-packages/pandas/core/frame.py:3997: SettingWithCopyWarning: \n",
            "A value is trying to be set on a copy of a slice from a DataFrame\n",
            "\n",
            "See the caveats in the documentation: https://pandas.pydata.org/pandas-docs/stable/user_guide/indexing.html#returning-a-view-versus-a-copy\n",
            "  errors=errors,\n"
          ],
          "name": "stderr"
        }
      ]
    },
    {
      "cell_type": "code",
      "metadata": {
        "id": "-QpHIMbNvL6l",
        "colab_type": "code",
        "colab": {}
      },
      "source": [
        "from sklearn.model_selection import train_test_split\n",
        "from sklearn.model_selection import StratifiedKFold\n",
        "def traintestsplit(X,Y):\n",
        "    skf = StratifiedKFold(n_splits=32, random_state=12)\n",
        "    skf.get_n_splits(X, Y)\n",
        "    for train_index, test_index in skf.split(X, Y):\n",
        "        X_train, X_test = X.iloc[train_index], X.iloc[test_index]\n",
        "        y_train, y_test = Y.iloc[train_index], Y.iloc[test_index]\n",
        "    return(X_train,X_test,y_train,y_test)"
      ],
      "execution_count": 0,
      "outputs": []
    },
    {
      "cell_type": "code",
      "metadata": {
        "id": "rNdVeMVRgVO3",
        "colab_type": "code",
        "colab": {}
      },
      "source": [
        ""
      ],
      "execution_count": 0,
      "outputs": []
    },
    {
      "cell_type": "code",
      "metadata": {
        "id": "cfYn9sVrvL9e",
        "colab_type": "code",
        "colab": {}
      },
      "source": [
        "#X_train,X_test,y_train,y_test = traintestsplit(train_data,train_label)\n",
        "from sklearn.model_selection import train_test_split\n",
        "X_train, X_test, y_train, y_test = train_test_split(train_data,train_label, test_size=0.15, random_state=1)"
      ],
      "execution_count": 0,
      "outputs": []
    },
    {
      "cell_type": "code",
      "metadata": {
        "id": "s5zh50j9Ip2z",
        "colab_type": "code",
        "outputId": "9f3d990d-064d-41bd-ca23-4e151768edb8",
        "colab": {
          "base_uri": "https://localhost:8080/",
          "height": 34
        }
      },
      "source": [
        "X_train.shape, y_train.shape, X_test.shape, y_test.shape"
      ],
      "execution_count": 0,
      "outputs": [
        {
          "output_type": "execute_result",
          "data": {
            "text/plain": [
              "((15210, 26), (15210,), (2685, 26), (2685,))"
            ]
          },
          "metadata": {
            "tags": []
          },
          "execution_count": 605
        }
      ]
    },
    {
      "cell_type": "code",
      "metadata": {
        "id": "W7kIkUlByj9E",
        "colab_type": "code",
        "outputId": "8db27c7a-f7f3-4e6d-bfa7-9374ee0f9d1e",
        "colab": {
          "base_uri": "https://localhost:8080/",
          "height": 86
        }
      },
      "source": [
        "X_train.columns"
      ],
      "execution_count": 0,
      "outputs": [
        {
          "output_type": "execute_result",
          "data": {
            "text/plain": [
              "Index(['return_ytd', '2017_return_fund', '2018_return_fund',\n",
              "       '5_years_return_fund', 'fund_return_3years', 'fundVscat3yr',\n",
              "       'fundVscat5yr'],\n",
              "      dtype='object')"
            ]
          },
          "metadata": {
            "tags": []
          },
          "execution_count": 565
        }
      ]
    },
    {
      "cell_type": "code",
      "metadata": {
        "id": "ZJbrW2lkItO7",
        "colab_type": "code",
        "colab": {}
      },
      "source": [
        "from sklearn.metrics import accuracy_score, precision_score, recall_score, f1_score\n",
        "from sklearn.ensemble import GradientBoostingClassifier\n",
        "from xgboost import XGBClassifier\n",
        "xgb=XGBClassifier()\n",
        "from sklearn.feature_selection import SelectFromModel\n",
        "import pandas as pd\n",
        "from sklearn.metrics import accuracy_score, confusion_matrix, f1_score, recall_score, precision_score\n",
        "import xgboost as xgb"
      ],
      "execution_count": 0,
      "outputs": []
    },
    {
      "cell_type": "code",
      "metadata": {
        "id": "5zst2CK2ILMd",
        "colab_type": "code",
        "outputId": "4466e352-9204-4f8d-bd80-873b16d18a03",
        "colab": {
          "base_uri": "https://localhost:8080/",
          "height": 383
        }
      },
      "source": [
        "# for grid search\n",
        "from sklearn.model_selection import GridSearchCV\n",
        "from sklearn.model_selection import RandomizedSearchCV\n",
        "gb = GradientBoostingClassifier()\n",
        "param_grid = {\n",
        "    'n_estimators': [150,200,250],\n",
        "    'max_depth': range(3, 5),\n",
        "    'max_leaf_nodes': range(10, 16)\n",
        "}\n",
        "\n",
        "gb_cv = GridSearchCV(estimator=gb,\n",
        "                     param_grid=param_grid,\n",
        "                     cv=5)\n",
        "gb_cv.fit(X_train, y_train)\n",
        "print(gb_cv.best_params_)"
      ],
      "execution_count": 0,
      "outputs": [
        {
          "output_type": "error",
          "ename": "KeyboardInterrupt",
          "evalue": "ignored",
          "traceback": [
            "\u001b[0;31m---------------------------------------------------------------------------\u001b[0m",
            "\u001b[0;31mKeyboardInterrupt\u001b[0m                         Traceback (most recent call last)",
            "\u001b[0;32m<ipython-input-567-74ad0941bb9b>\u001b[0m in \u001b[0;36m<module>\u001b[0;34m()\u001b[0m\n\u001b[1;32m     11\u001b[0m                      \u001b[0mparam_grid\u001b[0m\u001b[0;34m=\u001b[0m\u001b[0mparam_grid\u001b[0m\u001b[0;34m,\u001b[0m\u001b[0;34m\u001b[0m\u001b[0;34m\u001b[0m\u001b[0m\n\u001b[1;32m     12\u001b[0m                      cv=5)\n\u001b[0;32m---> 13\u001b[0;31m \u001b[0mgb_cv\u001b[0m\u001b[0;34m.\u001b[0m\u001b[0mfit\u001b[0m\u001b[0;34m(\u001b[0m\u001b[0mX_train\u001b[0m\u001b[0;34m,\u001b[0m \u001b[0my_train\u001b[0m\u001b[0;34m)\u001b[0m\u001b[0;34m\u001b[0m\u001b[0;34m\u001b[0m\u001b[0m\n\u001b[0m\u001b[1;32m     14\u001b[0m \u001b[0mprint\u001b[0m\u001b[0;34m(\u001b[0m\u001b[0mgb_cv\u001b[0m\u001b[0;34m.\u001b[0m\u001b[0mbest_params_\u001b[0m\u001b[0;34m)\u001b[0m\u001b[0;34m\u001b[0m\u001b[0;34m\u001b[0m\u001b[0m\n",
            "\u001b[0;32m/usr/local/lib/python3.6/dist-packages/sklearn/model_selection/_search.py\u001b[0m in \u001b[0;36mfit\u001b[0;34m(self, X, y, groups, **fit_params)\u001b[0m\n\u001b[1;32m    708\u001b[0m                 \u001b[0;32mreturn\u001b[0m \u001b[0mresults\u001b[0m\u001b[0;34m\u001b[0m\u001b[0;34m\u001b[0m\u001b[0m\n\u001b[1;32m    709\u001b[0m \u001b[0;34m\u001b[0m\u001b[0m\n\u001b[0;32m--> 710\u001b[0;31m             \u001b[0mself\u001b[0m\u001b[0;34m.\u001b[0m\u001b[0m_run_search\u001b[0m\u001b[0;34m(\u001b[0m\u001b[0mevaluate_candidates\u001b[0m\u001b[0;34m)\u001b[0m\u001b[0;34m\u001b[0m\u001b[0;34m\u001b[0m\u001b[0m\n\u001b[0m\u001b[1;32m    711\u001b[0m \u001b[0;34m\u001b[0m\u001b[0m\n\u001b[1;32m    712\u001b[0m         \u001b[0;31m# For multi-metric evaluation, store the best_index_, best_params_ and\u001b[0m\u001b[0;34m\u001b[0m\u001b[0;34m\u001b[0m\u001b[0;34m\u001b[0m\u001b[0m\n",
            "\u001b[0;32m/usr/local/lib/python3.6/dist-packages/sklearn/model_selection/_search.py\u001b[0m in \u001b[0;36m_run_search\u001b[0;34m(self, evaluate_candidates)\u001b[0m\n\u001b[1;32m   1149\u001b[0m     \u001b[0;32mdef\u001b[0m \u001b[0m_run_search\u001b[0m\u001b[0;34m(\u001b[0m\u001b[0mself\u001b[0m\u001b[0;34m,\u001b[0m \u001b[0mevaluate_candidates\u001b[0m\u001b[0;34m)\u001b[0m\u001b[0;34m:\u001b[0m\u001b[0;34m\u001b[0m\u001b[0;34m\u001b[0m\u001b[0m\n\u001b[1;32m   1150\u001b[0m         \u001b[0;34m\"\"\"Search all candidates in param_grid\"\"\"\u001b[0m\u001b[0;34m\u001b[0m\u001b[0;34m\u001b[0m\u001b[0m\n\u001b[0;32m-> 1151\u001b[0;31m         \u001b[0mevaluate_candidates\u001b[0m\u001b[0;34m(\u001b[0m\u001b[0mParameterGrid\u001b[0m\u001b[0;34m(\u001b[0m\u001b[0mself\u001b[0m\u001b[0;34m.\u001b[0m\u001b[0mparam_grid\u001b[0m\u001b[0;34m)\u001b[0m\u001b[0;34m)\u001b[0m\u001b[0;34m\u001b[0m\u001b[0;34m\u001b[0m\u001b[0m\n\u001b[0m\u001b[1;32m   1152\u001b[0m \u001b[0;34m\u001b[0m\u001b[0m\n\u001b[1;32m   1153\u001b[0m \u001b[0;34m\u001b[0m\u001b[0m\n",
            "\u001b[0;32m/usr/local/lib/python3.6/dist-packages/sklearn/model_selection/_search.py\u001b[0m in \u001b[0;36mevaluate_candidates\u001b[0;34m(candidate_params)\u001b[0m\n\u001b[1;32m    687\u001b[0m                                \u001b[0;32mfor\u001b[0m \u001b[0mparameters\u001b[0m\u001b[0;34m,\u001b[0m \u001b[0;34m(\u001b[0m\u001b[0mtrain\u001b[0m\u001b[0;34m,\u001b[0m \u001b[0mtest\u001b[0m\u001b[0;34m)\u001b[0m\u001b[0;34m\u001b[0m\u001b[0;34m\u001b[0m\u001b[0m\n\u001b[1;32m    688\u001b[0m                                in product(candidate_params,\n\u001b[0;32m--> 689\u001b[0;31m                                           cv.split(X, y, groups)))\n\u001b[0m\u001b[1;32m    690\u001b[0m \u001b[0;34m\u001b[0m\u001b[0m\n\u001b[1;32m    691\u001b[0m                 \u001b[0;32mif\u001b[0m \u001b[0mlen\u001b[0m\u001b[0;34m(\u001b[0m\u001b[0mout\u001b[0m\u001b[0;34m)\u001b[0m \u001b[0;34m<\u001b[0m \u001b[0;36m1\u001b[0m\u001b[0;34m:\u001b[0m\u001b[0;34m\u001b[0m\u001b[0;34m\u001b[0m\u001b[0m\n",
            "\u001b[0;32m/usr/local/lib/python3.6/dist-packages/joblib/parallel.py\u001b[0m in \u001b[0;36m__call__\u001b[0;34m(self, iterable)\u001b[0m\n\u001b[1;32m   1005\u001b[0m                 \u001b[0mself\u001b[0m\u001b[0;34m.\u001b[0m\u001b[0m_iterating\u001b[0m \u001b[0;34m=\u001b[0m \u001b[0mself\u001b[0m\u001b[0;34m.\u001b[0m\u001b[0m_original_iterator\u001b[0m \u001b[0;32mis\u001b[0m \u001b[0;32mnot\u001b[0m \u001b[0;32mNone\u001b[0m\u001b[0;34m\u001b[0m\u001b[0;34m\u001b[0m\u001b[0m\n\u001b[1;32m   1006\u001b[0m \u001b[0;34m\u001b[0m\u001b[0m\n\u001b[0;32m-> 1007\u001b[0;31m             \u001b[0;32mwhile\u001b[0m \u001b[0mself\u001b[0m\u001b[0;34m.\u001b[0m\u001b[0mdispatch_one_batch\u001b[0m\u001b[0;34m(\u001b[0m\u001b[0miterator\u001b[0m\u001b[0;34m)\u001b[0m\u001b[0;34m:\u001b[0m\u001b[0;34m\u001b[0m\u001b[0;34m\u001b[0m\u001b[0m\n\u001b[0m\u001b[1;32m   1008\u001b[0m                 \u001b[0;32mpass\u001b[0m\u001b[0;34m\u001b[0m\u001b[0;34m\u001b[0m\u001b[0m\n\u001b[1;32m   1009\u001b[0m \u001b[0;34m\u001b[0m\u001b[0m\n",
            "\u001b[0;32m/usr/local/lib/python3.6/dist-packages/joblib/parallel.py\u001b[0m in \u001b[0;36mdispatch_one_batch\u001b[0;34m(self, iterator)\u001b[0m\n\u001b[1;32m    833\u001b[0m                 \u001b[0;32mreturn\u001b[0m \u001b[0;32mFalse\u001b[0m\u001b[0;34m\u001b[0m\u001b[0;34m\u001b[0m\u001b[0m\n\u001b[1;32m    834\u001b[0m             \u001b[0;32melse\u001b[0m\u001b[0;34m:\u001b[0m\u001b[0;34m\u001b[0m\u001b[0;34m\u001b[0m\u001b[0m\n\u001b[0;32m--> 835\u001b[0;31m                 \u001b[0mself\u001b[0m\u001b[0;34m.\u001b[0m\u001b[0m_dispatch\u001b[0m\u001b[0;34m(\u001b[0m\u001b[0mtasks\u001b[0m\u001b[0;34m)\u001b[0m\u001b[0;34m\u001b[0m\u001b[0;34m\u001b[0m\u001b[0m\n\u001b[0m\u001b[1;32m    836\u001b[0m                 \u001b[0;32mreturn\u001b[0m \u001b[0;32mTrue\u001b[0m\u001b[0;34m\u001b[0m\u001b[0;34m\u001b[0m\u001b[0m\n\u001b[1;32m    837\u001b[0m \u001b[0;34m\u001b[0m\u001b[0m\n",
            "\u001b[0;32m/usr/local/lib/python3.6/dist-packages/joblib/parallel.py\u001b[0m in \u001b[0;36m_dispatch\u001b[0;34m(self, batch)\u001b[0m\n\u001b[1;32m    752\u001b[0m         \u001b[0;32mwith\u001b[0m \u001b[0mself\u001b[0m\u001b[0;34m.\u001b[0m\u001b[0m_lock\u001b[0m\u001b[0;34m:\u001b[0m\u001b[0;34m\u001b[0m\u001b[0;34m\u001b[0m\u001b[0m\n\u001b[1;32m    753\u001b[0m             \u001b[0mjob_idx\u001b[0m \u001b[0;34m=\u001b[0m \u001b[0mlen\u001b[0m\u001b[0;34m(\u001b[0m\u001b[0mself\u001b[0m\u001b[0;34m.\u001b[0m\u001b[0m_jobs\u001b[0m\u001b[0;34m)\u001b[0m\u001b[0;34m\u001b[0m\u001b[0;34m\u001b[0m\u001b[0m\n\u001b[0;32m--> 754\u001b[0;31m             \u001b[0mjob\u001b[0m \u001b[0;34m=\u001b[0m \u001b[0mself\u001b[0m\u001b[0;34m.\u001b[0m\u001b[0m_backend\u001b[0m\u001b[0;34m.\u001b[0m\u001b[0mapply_async\u001b[0m\u001b[0;34m(\u001b[0m\u001b[0mbatch\u001b[0m\u001b[0;34m,\u001b[0m \u001b[0mcallback\u001b[0m\u001b[0;34m=\u001b[0m\u001b[0mcb\u001b[0m\u001b[0;34m)\u001b[0m\u001b[0;34m\u001b[0m\u001b[0;34m\u001b[0m\u001b[0m\n\u001b[0m\u001b[1;32m    755\u001b[0m             \u001b[0;31m# A job can complete so quickly than its callback is\u001b[0m\u001b[0;34m\u001b[0m\u001b[0;34m\u001b[0m\u001b[0;34m\u001b[0m\u001b[0m\n\u001b[1;32m    756\u001b[0m             \u001b[0;31m# called before we get here, causing self._jobs to\u001b[0m\u001b[0;34m\u001b[0m\u001b[0;34m\u001b[0m\u001b[0;34m\u001b[0m\u001b[0m\n",
            "\u001b[0;32m/usr/local/lib/python3.6/dist-packages/joblib/_parallel_backends.py\u001b[0m in \u001b[0;36mapply_async\u001b[0;34m(self, func, callback)\u001b[0m\n\u001b[1;32m    207\u001b[0m     \u001b[0;32mdef\u001b[0m \u001b[0mapply_async\u001b[0m\u001b[0;34m(\u001b[0m\u001b[0mself\u001b[0m\u001b[0;34m,\u001b[0m \u001b[0mfunc\u001b[0m\u001b[0;34m,\u001b[0m \u001b[0mcallback\u001b[0m\u001b[0;34m=\u001b[0m\u001b[0;32mNone\u001b[0m\u001b[0;34m)\u001b[0m\u001b[0;34m:\u001b[0m\u001b[0;34m\u001b[0m\u001b[0;34m\u001b[0m\u001b[0m\n\u001b[1;32m    208\u001b[0m         \u001b[0;34m\"\"\"Schedule a func to be run\"\"\"\u001b[0m\u001b[0;34m\u001b[0m\u001b[0;34m\u001b[0m\u001b[0m\n\u001b[0;32m--> 209\u001b[0;31m         \u001b[0mresult\u001b[0m \u001b[0;34m=\u001b[0m \u001b[0mImmediateResult\u001b[0m\u001b[0;34m(\u001b[0m\u001b[0mfunc\u001b[0m\u001b[0;34m)\u001b[0m\u001b[0;34m\u001b[0m\u001b[0;34m\u001b[0m\u001b[0m\n\u001b[0m\u001b[1;32m    210\u001b[0m         \u001b[0;32mif\u001b[0m \u001b[0mcallback\u001b[0m\u001b[0;34m:\u001b[0m\u001b[0;34m\u001b[0m\u001b[0;34m\u001b[0m\u001b[0m\n\u001b[1;32m    211\u001b[0m             \u001b[0mcallback\u001b[0m\u001b[0;34m(\u001b[0m\u001b[0mresult\u001b[0m\u001b[0;34m)\u001b[0m\u001b[0;34m\u001b[0m\u001b[0;34m\u001b[0m\u001b[0m\n",
            "\u001b[0;32m/usr/local/lib/python3.6/dist-packages/joblib/_parallel_backends.py\u001b[0m in \u001b[0;36m__init__\u001b[0;34m(self, batch)\u001b[0m\n\u001b[1;32m    588\u001b[0m         \u001b[0;31m# Don't delay the application, to avoid keeping the input\u001b[0m\u001b[0;34m\u001b[0m\u001b[0;34m\u001b[0m\u001b[0;34m\u001b[0m\u001b[0m\n\u001b[1;32m    589\u001b[0m         \u001b[0;31m# arguments in memory\u001b[0m\u001b[0;34m\u001b[0m\u001b[0;34m\u001b[0m\u001b[0;34m\u001b[0m\u001b[0m\n\u001b[0;32m--> 590\u001b[0;31m         \u001b[0mself\u001b[0m\u001b[0;34m.\u001b[0m\u001b[0mresults\u001b[0m \u001b[0;34m=\u001b[0m \u001b[0mbatch\u001b[0m\u001b[0;34m(\u001b[0m\u001b[0;34m)\u001b[0m\u001b[0;34m\u001b[0m\u001b[0;34m\u001b[0m\u001b[0m\n\u001b[0m\u001b[1;32m    591\u001b[0m \u001b[0;34m\u001b[0m\u001b[0m\n\u001b[1;32m    592\u001b[0m     \u001b[0;32mdef\u001b[0m \u001b[0mget\u001b[0m\u001b[0;34m(\u001b[0m\u001b[0mself\u001b[0m\u001b[0;34m)\u001b[0m\u001b[0;34m:\u001b[0m\u001b[0;34m\u001b[0m\u001b[0;34m\u001b[0m\u001b[0m\n",
            "\u001b[0;32m/usr/local/lib/python3.6/dist-packages/joblib/parallel.py\u001b[0m in \u001b[0;36m__call__\u001b[0;34m(self)\u001b[0m\n\u001b[1;32m    254\u001b[0m         \u001b[0;32mwith\u001b[0m \u001b[0mparallel_backend\u001b[0m\u001b[0;34m(\u001b[0m\u001b[0mself\u001b[0m\u001b[0;34m.\u001b[0m\u001b[0m_backend\u001b[0m\u001b[0;34m,\u001b[0m \u001b[0mn_jobs\u001b[0m\u001b[0;34m=\u001b[0m\u001b[0mself\u001b[0m\u001b[0;34m.\u001b[0m\u001b[0m_n_jobs\u001b[0m\u001b[0;34m)\u001b[0m\u001b[0;34m:\u001b[0m\u001b[0;34m\u001b[0m\u001b[0;34m\u001b[0m\u001b[0m\n\u001b[1;32m    255\u001b[0m             return [func(*args, **kwargs)\n\u001b[0;32m--> 256\u001b[0;31m                     for func, args, kwargs in self.items]\n\u001b[0m\u001b[1;32m    257\u001b[0m \u001b[0;34m\u001b[0m\u001b[0m\n\u001b[1;32m    258\u001b[0m     \u001b[0;32mdef\u001b[0m \u001b[0m__len__\u001b[0m\u001b[0;34m(\u001b[0m\u001b[0mself\u001b[0m\u001b[0;34m)\u001b[0m\u001b[0;34m:\u001b[0m\u001b[0;34m\u001b[0m\u001b[0;34m\u001b[0m\u001b[0m\n",
            "\u001b[0;32m/usr/local/lib/python3.6/dist-packages/joblib/parallel.py\u001b[0m in \u001b[0;36m<listcomp>\u001b[0;34m(.0)\u001b[0m\n\u001b[1;32m    254\u001b[0m         \u001b[0;32mwith\u001b[0m \u001b[0mparallel_backend\u001b[0m\u001b[0;34m(\u001b[0m\u001b[0mself\u001b[0m\u001b[0;34m.\u001b[0m\u001b[0m_backend\u001b[0m\u001b[0;34m,\u001b[0m \u001b[0mn_jobs\u001b[0m\u001b[0;34m=\u001b[0m\u001b[0mself\u001b[0m\u001b[0;34m.\u001b[0m\u001b[0m_n_jobs\u001b[0m\u001b[0;34m)\u001b[0m\u001b[0;34m:\u001b[0m\u001b[0;34m\u001b[0m\u001b[0;34m\u001b[0m\u001b[0m\n\u001b[1;32m    255\u001b[0m             return [func(*args, **kwargs)\n\u001b[0;32m--> 256\u001b[0;31m                     for func, args, kwargs in self.items]\n\u001b[0m\u001b[1;32m    257\u001b[0m \u001b[0;34m\u001b[0m\u001b[0m\n\u001b[1;32m    258\u001b[0m     \u001b[0;32mdef\u001b[0m \u001b[0m__len__\u001b[0m\u001b[0;34m(\u001b[0m\u001b[0mself\u001b[0m\u001b[0;34m)\u001b[0m\u001b[0;34m:\u001b[0m\u001b[0;34m\u001b[0m\u001b[0;34m\u001b[0m\u001b[0m\n",
            "\u001b[0;32m/usr/local/lib/python3.6/dist-packages/sklearn/model_selection/_validation.py\u001b[0m in \u001b[0;36m_fit_and_score\u001b[0;34m(estimator, X, y, scorer, train, test, verbose, parameters, fit_params, return_train_score, return_parameters, return_n_test_samples, return_times, return_estimator, error_score)\u001b[0m\n\u001b[1;32m    513\u001b[0m             \u001b[0mestimator\u001b[0m\u001b[0;34m.\u001b[0m\u001b[0mfit\u001b[0m\u001b[0;34m(\u001b[0m\u001b[0mX_train\u001b[0m\u001b[0;34m,\u001b[0m \u001b[0;34m**\u001b[0m\u001b[0mfit_params\u001b[0m\u001b[0;34m)\u001b[0m\u001b[0;34m\u001b[0m\u001b[0;34m\u001b[0m\u001b[0m\n\u001b[1;32m    514\u001b[0m         \u001b[0;32melse\u001b[0m\u001b[0;34m:\u001b[0m\u001b[0;34m\u001b[0m\u001b[0;34m\u001b[0m\u001b[0m\n\u001b[0;32m--> 515\u001b[0;31m             \u001b[0mestimator\u001b[0m\u001b[0;34m.\u001b[0m\u001b[0mfit\u001b[0m\u001b[0;34m(\u001b[0m\u001b[0mX_train\u001b[0m\u001b[0;34m,\u001b[0m \u001b[0my_train\u001b[0m\u001b[0;34m,\u001b[0m \u001b[0;34m**\u001b[0m\u001b[0mfit_params\u001b[0m\u001b[0;34m)\u001b[0m\u001b[0;34m\u001b[0m\u001b[0;34m\u001b[0m\u001b[0m\n\u001b[0m\u001b[1;32m    516\u001b[0m \u001b[0;34m\u001b[0m\u001b[0m\n\u001b[1;32m    517\u001b[0m     \u001b[0;32mexcept\u001b[0m \u001b[0mException\u001b[0m \u001b[0;32mas\u001b[0m \u001b[0me\u001b[0m\u001b[0;34m:\u001b[0m\u001b[0;34m\u001b[0m\u001b[0;34m\u001b[0m\u001b[0m\n",
            "\u001b[0;32m/usr/local/lib/python3.6/dist-packages/sklearn/ensemble/_gb.py\u001b[0m in \u001b[0;36mfit\u001b[0;34m(self, X, y, sample_weight, monitor)\u001b[0m\n\u001b[1;32m   1535\u001b[0m         n_stages = self._fit_stages(\n\u001b[1;32m   1536\u001b[0m             \u001b[0mX\u001b[0m\u001b[0;34m,\u001b[0m \u001b[0my\u001b[0m\u001b[0;34m,\u001b[0m \u001b[0mraw_predictions\u001b[0m\u001b[0;34m,\u001b[0m \u001b[0msample_weight\u001b[0m\u001b[0;34m,\u001b[0m \u001b[0mself\u001b[0m\u001b[0;34m.\u001b[0m\u001b[0m_rng\u001b[0m\u001b[0;34m,\u001b[0m \u001b[0mX_val\u001b[0m\u001b[0;34m,\u001b[0m \u001b[0my_val\u001b[0m\u001b[0;34m,\u001b[0m\u001b[0;34m\u001b[0m\u001b[0;34m\u001b[0m\u001b[0m\n\u001b[0;32m-> 1537\u001b[0;31m             sample_weight_val, begin_at_stage, monitor, X_idx_sorted)\n\u001b[0m\u001b[1;32m   1538\u001b[0m \u001b[0;34m\u001b[0m\u001b[0m\n\u001b[1;32m   1539\u001b[0m         \u001b[0;31m# change shape of arrays after fit (early-stopping or additional ests)\u001b[0m\u001b[0;34m\u001b[0m\u001b[0;34m\u001b[0m\u001b[0;34m\u001b[0m\u001b[0m\n",
            "\u001b[0;32m/usr/local/lib/python3.6/dist-packages/sklearn/ensemble/_gb.py\u001b[0m in \u001b[0;36m_fit_stages\u001b[0;34m(self, X, y, raw_predictions, sample_weight, random_state, X_val, y_val, sample_weight_val, begin_at_stage, monitor, X_idx_sorted)\u001b[0m\n\u001b[1;32m   1592\u001b[0m             raw_predictions = self._fit_stage(\n\u001b[1;32m   1593\u001b[0m                 \u001b[0mi\u001b[0m\u001b[0;34m,\u001b[0m \u001b[0mX\u001b[0m\u001b[0;34m,\u001b[0m \u001b[0my\u001b[0m\u001b[0;34m,\u001b[0m \u001b[0mraw_predictions\u001b[0m\u001b[0;34m,\u001b[0m \u001b[0msample_weight\u001b[0m\u001b[0;34m,\u001b[0m \u001b[0msample_mask\u001b[0m\u001b[0;34m,\u001b[0m\u001b[0;34m\u001b[0m\u001b[0;34m\u001b[0m\u001b[0m\n\u001b[0;32m-> 1594\u001b[0;31m                 random_state, X_idx_sorted, X_csc, X_csr)\n\u001b[0m\u001b[1;32m   1595\u001b[0m \u001b[0;34m\u001b[0m\u001b[0m\n\u001b[1;32m   1596\u001b[0m             \u001b[0;31m# track deviance (= loss)\u001b[0m\u001b[0;34m\u001b[0m\u001b[0;34m\u001b[0m\u001b[0;34m\u001b[0m\u001b[0m\n",
            "\u001b[0;32m/usr/local/lib/python3.6/dist-packages/sklearn/ensemble/_gb.py\u001b[0m in \u001b[0;36m_fit_stage\u001b[0;34m(self, i, X, y, raw_predictions, sample_weight, sample_mask, random_state, X_idx_sorted, X_csc, X_csr)\u001b[0m\n\u001b[1;32m   1243\u001b[0m             \u001b[0mX\u001b[0m \u001b[0;34m=\u001b[0m \u001b[0mX_csr\u001b[0m \u001b[0;32mif\u001b[0m \u001b[0mX_csr\u001b[0m \u001b[0;32mis\u001b[0m \u001b[0;32mnot\u001b[0m \u001b[0;32mNone\u001b[0m \u001b[0;32melse\u001b[0m \u001b[0mX\u001b[0m\u001b[0;34m\u001b[0m\u001b[0;34m\u001b[0m\u001b[0m\n\u001b[1;32m   1244\u001b[0m             tree.fit(X, residual, sample_weight=sample_weight,\n\u001b[0;32m-> 1245\u001b[0;31m                      check_input=False, X_idx_sorted=X_idx_sorted)\n\u001b[0m\u001b[1;32m   1246\u001b[0m \u001b[0;34m\u001b[0m\u001b[0m\n\u001b[1;32m   1247\u001b[0m             \u001b[0;31m# update tree leaves\u001b[0m\u001b[0;34m\u001b[0m\u001b[0;34m\u001b[0m\u001b[0;34m\u001b[0m\u001b[0m\n",
            "\u001b[0;32m/usr/local/lib/python3.6/dist-packages/sklearn/tree/_classes.py\u001b[0m in \u001b[0;36mfit\u001b[0;34m(self, X, y, sample_weight, check_input, X_idx_sorted)\u001b[0m\n\u001b[1;32m   1223\u001b[0m             \u001b[0msample_weight\u001b[0m\u001b[0;34m=\u001b[0m\u001b[0msample_weight\u001b[0m\u001b[0;34m,\u001b[0m\u001b[0;34m\u001b[0m\u001b[0;34m\u001b[0m\u001b[0m\n\u001b[1;32m   1224\u001b[0m             \u001b[0mcheck_input\u001b[0m\u001b[0;34m=\u001b[0m\u001b[0mcheck_input\u001b[0m\u001b[0;34m,\u001b[0m\u001b[0;34m\u001b[0m\u001b[0;34m\u001b[0m\u001b[0m\n\u001b[0;32m-> 1225\u001b[0;31m             X_idx_sorted=X_idx_sorted)\n\u001b[0m\u001b[1;32m   1226\u001b[0m         \u001b[0;32mreturn\u001b[0m \u001b[0mself\u001b[0m\u001b[0;34m\u001b[0m\u001b[0;34m\u001b[0m\u001b[0m\n\u001b[1;32m   1227\u001b[0m \u001b[0;34m\u001b[0m\u001b[0m\n",
            "\u001b[0;32m/usr/local/lib/python3.6/dist-packages/sklearn/tree/_classes.py\u001b[0m in \u001b[0;36mfit\u001b[0;34m(self, X, y, sample_weight, check_input, X_idx_sorted)\u001b[0m\n\u001b[1;32m    365\u001b[0m                                            min_impurity_split)\n\u001b[1;32m    366\u001b[0m \u001b[0;34m\u001b[0m\u001b[0m\n\u001b[0;32m--> 367\u001b[0;31m         \u001b[0mbuilder\u001b[0m\u001b[0;34m.\u001b[0m\u001b[0mbuild\u001b[0m\u001b[0;34m(\u001b[0m\u001b[0mself\u001b[0m\u001b[0;34m.\u001b[0m\u001b[0mtree_\u001b[0m\u001b[0;34m,\u001b[0m \u001b[0mX\u001b[0m\u001b[0;34m,\u001b[0m \u001b[0my\u001b[0m\u001b[0;34m,\u001b[0m \u001b[0msample_weight\u001b[0m\u001b[0;34m,\u001b[0m \u001b[0mX_idx_sorted\u001b[0m\u001b[0;34m)\u001b[0m\u001b[0;34m\u001b[0m\u001b[0;34m\u001b[0m\u001b[0m\n\u001b[0m\u001b[1;32m    368\u001b[0m \u001b[0;34m\u001b[0m\u001b[0m\n\u001b[1;32m    369\u001b[0m         \u001b[0;32mif\u001b[0m \u001b[0mself\u001b[0m\u001b[0;34m.\u001b[0m\u001b[0mn_outputs_\u001b[0m \u001b[0;34m==\u001b[0m \u001b[0;36m1\u001b[0m \u001b[0;32mand\u001b[0m \u001b[0mis_classifier\u001b[0m\u001b[0;34m(\u001b[0m\u001b[0mself\u001b[0m\u001b[0;34m)\u001b[0m\u001b[0;34m:\u001b[0m\u001b[0;34m\u001b[0m\u001b[0;34m\u001b[0m\u001b[0m\n",
            "\u001b[0;31mKeyboardInterrupt\u001b[0m: "
          ]
        }
      ]
    },
    {
      "cell_type": "code",
      "metadata": {
        "id": "4gDvrIzEIxP8",
        "colab_type": "code",
        "outputId": "294cc961-c0dd-46aa-e2fb-5d3b3e880069",
        "colab": {
          "base_uri": "https://localhost:8080/",
          "height": 190
        }
      },
      "source": [
        "gb = GradientBoostingClassifier(max_depth = 4, max_leaf_nodes = 20,  n_estimators = 200)\n",
        "gb.fit(X_train, y_train)"
      ],
      "execution_count": 0,
      "outputs": [
        {
          "output_type": "execute_result",
          "data": {
            "text/plain": [
              "GradientBoostingClassifier(ccp_alpha=0.0, criterion='friedman_mse', init=None,\n",
              "                           learning_rate=0.1, loss='deviance', max_depth=4,\n",
              "                           max_features=None, max_leaf_nodes=20,\n",
              "                           min_impurity_decrease=0.0, min_impurity_split=None,\n",
              "                           min_samples_leaf=1, min_samples_split=2,\n",
              "                           min_weight_fraction_leaf=0.0, n_estimators=200,\n",
              "                           n_iter_no_change=None, presort='deprecated',\n",
              "                           random_state=None, subsample=1.0, tol=0.0001,\n",
              "                           validation_fraction=0.1, verbose=0,\n",
              "                           warm_start=False)"
            ]
          },
          "metadata": {
            "tags": []
          },
          "execution_count": 608
        }
      ]
    },
    {
      "cell_type": "code",
      "metadata": {
        "id": "dSIfwMuvI3Bk",
        "colab_type": "code",
        "outputId": "a2c7247d-ea87-4941-baea-338f11770728",
        "colab": {
          "base_uri": "https://localhost:8080/",
          "height": 34
        }
      },
      "source": [
        "y_gb_pred = gb.predict(X_test)\n",
        "print(f\"Gradient Boosting Accuracy: {accuracy_score(y_gb_pred, y_test):.3f}\")"
      ],
      "execution_count": 0,
      "outputs": [
        {
          "output_type": "stream",
          "text": [
            "Gradient Boosting Accuracy: 0.714\n"
          ],
          "name": "stdout"
        }
      ]
    },
    {
      "cell_type": "code",
      "metadata": {
        "id": "FCwUeeprI4T_",
        "colab_type": "code",
        "outputId": "df9e36e4-0829-471a-82e4-4c743bdd0e23",
        "colab": {
          "base_uri": "https://localhost:8080/",
          "height": 121
        }
      },
      "source": [
        "test_pred = gb.predict(X_test)\n",
        "#cf_matrix = confusion_matrix(y_test, test_pred.round())\n",
        "#cf_matrix\n",
        "confusion_matrix(y_test, test_pred)"
      ],
      "execution_count": 0,
      "outputs": [
        {
          "output_type": "execute_result",
          "data": {
            "text/plain": [
              "array([[ 99,   0,   2,   1,   1,   0],\n",
              "       [  1, 111,  91,   3,   1,   0],\n",
              "       [  1,  31, 422, 151,   2,   1],\n",
              "       [  0,   2, 114, 670, 146,   6],\n",
              "       [  0,   0,   6, 135, 412,  45],\n",
              "       [  0,   0,   0,   3,  93, 135]])"
            ]
          },
          "metadata": {
            "tags": []
          },
          "execution_count": 587
        }
      ]
    },
    {
      "cell_type": "code",
      "metadata": {
        "id": "YvcvsHCXI855",
        "colab_type": "code",
        "colab": {}
      },
      "source": [
        "subpred = gb.predict(X_sub)\n",
        "sub = pd.DataFrame(subpred)"
      ],
      "execution_count": 0,
      "outputs": []
    },
    {
      "cell_type": "code",
      "metadata": {
        "id": "zsAa4uV6JFHE",
        "colab_type": "code",
        "outputId": "463d81f4-92c5-4bf6-8d68-8861118ea06f",
        "colab": {
          "base_uri": "https://localhost:8080/",
          "height": 141
        }
      },
      "source": [
        "sub_key['greatstone_rating'] = subpred\n",
        "predictions = sub_key[['fund_id', 'greatstone_rating']]\n",
        "predictions.head()\n",
        "sample_submission = pd.read_csv(\"/content/drive/My Drive/GreatLearning Hackathon /sample_submission.csv\")\n",
        "sam = pd.concat([sample_submission,predictions]).drop_duplicates(['fund_id'],keep='last')\n",
        "sam.to_csv(\"sample_submission_results_XGboosttry_v2.1.csv\")"
      ],
      "execution_count": 0,
      "outputs": [
        {
          "output_type": "stream",
          "text": [
            "/usr/local/lib/python3.6/dist-packages/ipykernel_launcher.py:1: SettingWithCopyWarning: \n",
            "A value is trying to be set on a copy of a slice from a DataFrame.\n",
            "Try using .loc[row_indexer,col_indexer] = value instead\n",
            "\n",
            "See the caveats in the documentation: https://pandas.pydata.org/pandas-docs/stable/user_guide/indexing.html#returning-a-view-versus-a-copy\n",
            "  \"\"\"Entry point for launching an IPython kernel.\n"
          ],
          "name": "stderr"
        }
      ]
    },
    {
      "cell_type": "code",
      "metadata": {
        "colab_type": "code",
        "outputId": "2cb0ce4b-5f3c-496a-a23d-04b5420302f8",
        "id": "X-zmq7-6k5Eo",
        "colab": {
          "base_uri": "https://localhost:8080/",
          "height": 51
        }
      },
      "source": [
        "from sklearn.ensemble import AdaBoostClassifier\n",
        "ada = AdaBoostClassifier(n_estimators = 250)\n",
        "ada.fit(X_train, y_train)"
      ],
      "execution_count": 0,
      "outputs": [
        {
          "output_type": "execute_result",
          "data": {
            "text/plain": [
              "AdaBoostClassifier(algorithm='SAMME.R', base_estimator=None, learning_rate=1.0,\n",
              "                   n_estimators=250, random_state=None)"
            ]
          },
          "metadata": {
            "tags": []
          },
          "execution_count": 225
        }
      ]
    },
    {
      "cell_type": "code",
      "metadata": {
        "colab_type": "code",
        "outputId": "47c773b2-3be5-4645-bc82-c9d93c4b3d2a",
        "id": "bLlwOhgsk5Et",
        "colab": {
          "base_uri": "https://localhost:8080/",
          "height": 34
        }
      },
      "source": [
        "y_gb_pred = ada.predict(X_test)\n",
        "print(f\"Gradient Boosting Accuracy: {accuracy_score(y_gb_pred, y_test):.3f}\")"
      ],
      "execution_count": 0,
      "outputs": [
        {
          "output_type": "stream",
          "text": [
            "Gradient Boosting Accuracy: 0.475\n"
          ],
          "name": "stdout"
        }
      ]
    },
    {
      "cell_type": "code",
      "metadata": {
        "colab_type": "code",
        "outputId": "978fc787-32e9-4aa3-fa0a-a2097b88bcb2",
        "id": "5LOdMg6Zk5Ev",
        "colab": {
          "base_uri": "https://localhost:8080/",
          "height": 121
        }
      },
      "source": [
        "test_pred = ada.predict(X_test)\n",
        "#cf_matrix = confusion_matrix(y_test, test_pred.round())\n",
        "#cf_matrix\n",
        "confusion_matrix(y_test, test_pred)"
      ],
      "execution_count": 0,
      "outputs": [
        {
          "output_type": "execute_result",
          "data": {
            "text/plain": [
              "array([[ 16,  23,   2,   1,   0,   0],\n",
              "       [  0,  24,  15,   2,   1,   1],\n",
              "       [  0,  51,  53,  26,   2,   1],\n",
              "       [  1,   5,  32, 128,  31,  15],\n",
              "       [  2,   0,   4,  44,  41,  53],\n",
              "       [  0,   1,   0,   3,  12,  35]])"
            ]
          },
          "metadata": {
            "tags": []
          },
          "execution_count": 227
        }
      ]
    },
    {
      "cell_type": "code",
      "metadata": {
        "colab_type": "code",
        "id": "fFVC2Rwhk5Ex",
        "colab": {}
      },
      "source": [
        "subpred = ada.predict(X_sub)\n",
        "sub = pd.DataFrame(subpred)"
      ],
      "execution_count": 0,
      "outputs": []
    },
    {
      "cell_type": "code",
      "metadata": {
        "colab_type": "code",
        "outputId": "c4906973-90d1-42da-a8e2-8e4bb2ad2771",
        "id": "6tLBqClXk5Ey",
        "colab": {
          "base_uri": "https://localhost:8080/",
          "height": 141
        }
      },
      "source": [
        "sub_key['greatstone_rating'] = subpred\n",
        "predictions = sub_key[['fund_id', 'greatstone_rating']]\n",
        "predictions.head()\n",
        "sample_submission = pd.read_csv(\"/content/drive/My Drive/GreatLearning Hackathon /sample_submission.csv\")\n",
        "sam = pd.concat([sample_submission,predictions]).drop_duplicates(['fund_id'],keep='last')\n",
        "sam.to_csv(\"sample_submission_ada_v1.csv\")"
      ],
      "execution_count": 0,
      "outputs": [
        {
          "output_type": "stream",
          "text": [
            "/usr/local/lib/python3.6/dist-packages/ipykernel_launcher.py:1: SettingWithCopyWarning: \n",
            "A value is trying to be set on a copy of a slice from a DataFrame.\n",
            "Try using .loc[row_indexer,col_indexer] = value instead\n",
            "\n",
            "See the caveats in the documentation: https://pandas.pydata.org/pandas-docs/stable/user_guide/indexing.html#returning-a-view-versus-a-copy\n",
            "  \"\"\"Entry point for launching an IPython kernel.\n"
          ],
          "name": "stderr"
        }
      ]
    },
    {
      "cell_type": "code",
      "metadata": {
        "id": "8GNMB2qiuztJ",
        "colab_type": "code",
        "colab": {}
      },
      "source": [
        "from keras.utils import to_categorical\n",
        "y_train2 = to_categorical(y_train)\n",
        "y_test2 = to_categorical(y_test)"
      ],
      "execution_count": 0,
      "outputs": []
    },
    {
      "cell_type": "code",
      "metadata": {
        "id": "RYSESxfyMviS",
        "colab_type": "code",
        "cellView": "code",
        "colab": {}
      },
      "source": [
        "#@title Default title text\n",
        "def create_model(): \n",
        "  model = Sequential()\n",
        "  model.add(Dense(1026, input_dim=X_train.shape[1], activation= 'relu'))\n",
        "  model.add(Dropout(.10))\n",
        "  model.add(Dense(1026, activation= 'relu'))\n",
        "  model.add(Dropout(.10))\n",
        "  model.add(Dense(1026, activation= 'relu'))\n",
        "  model.add(Dropout(.10))\n",
        "  model.add(Dense(1026, activation= 'relu'))\n",
        "  model.add(Dropout(.10))\n",
        "  model.add(Dense(1026, activation= 'relu'))\n",
        "  model.add(Dropout(.20))\n",
        "  model.add(Dense(6, activation= 'softmax'))\n",
        "  model.compile(loss='categorical_crossentropy', optimizer='adam', metrics=['accuracy'])\n",
        "  return(model)"
      ],
      "execution_count": 0,
      "outputs": []
    },
    {
      "cell_type": "code",
      "metadata": {
        "id": "gw8a4W7pOzz0",
        "colab_type": "code",
        "colab": {}
      },
      "source": [
        "early_stopping = EarlyStopping(monitor='val_acc', patience=25, mode='auto', verbose=0,)\n",
        "mcp_save = ModelCheckpoint('best_V1_3.h5', verbose=1, monitor='val_accuracy',save_best_only=True)\n",
        "callback_list = [ mcp_save, early_stopping]"
      ],
      "execution_count": 0,
      "outputs": []
    },
    {
      "cell_type": "code",
      "metadata": {
        "id": "f5iSETH1PGHS",
        "colab_type": "code",
        "outputId": "4304c737-d8f7-4fd1-e022-c8f1860ac545",
        "colab": {
          "base_uri": "https://localhost:8080/",
          "height": 537
        }
      },
      "source": [
        "model = create_model()\n",
        "model.summary()"
      ],
      "execution_count": 0,
      "outputs": [
        {
          "output_type": "stream",
          "text": [
            "Model: \"sequential_2\"\n",
            "_________________________________________________________________\n",
            "Layer (type)                 Output Shape              Param #   \n",
            "=================================================================\n",
            "dense_7 (Dense)              (None, 1026)              33858     \n",
            "_________________________________________________________________\n",
            "dropout_6 (Dropout)          (None, 1026)              0         \n",
            "_________________________________________________________________\n",
            "dense_8 (Dense)              (None, 1026)              1053702   \n",
            "_________________________________________________________________\n",
            "dropout_7 (Dropout)          (None, 1026)              0         \n",
            "_________________________________________________________________\n",
            "dense_9 (Dense)              (None, 1026)              1053702   \n",
            "_________________________________________________________________\n",
            "dropout_8 (Dropout)          (None, 1026)              0         \n",
            "_________________________________________________________________\n",
            "dense_10 (Dense)             (None, 1026)              1053702   \n",
            "_________________________________________________________________\n",
            "dropout_9 (Dropout)          (None, 1026)              0         \n",
            "_________________________________________________________________\n",
            "dense_11 (Dense)             (None, 1026)              1053702   \n",
            "_________________________________________________________________\n",
            "dropout_10 (Dropout)         (None, 1026)              0         \n",
            "_________________________________________________________________\n",
            "dense_12 (Dense)             (None, 6)                 6162      \n",
            "=================================================================\n",
            "Total params: 4,254,828\n",
            "Trainable params: 4,254,828\n",
            "Non-trainable params: 0\n",
            "_________________________________________________________________\n"
          ],
          "name": "stdout"
        }
      ]
    },
    {
      "cell_type": "code",
      "metadata": {
        "id": "FZJb5I5p2cXc",
        "colab_type": "code",
        "colab": {}
      },
      "source": [
        "#model.load_weights(\"/content/best_V1_2.h5\")"
      ],
      "execution_count": 0,
      "outputs": []
    },
    {
      "cell_type": "code",
      "metadata": {
        "id": "3AKiJnTvPGKD",
        "colab_type": "code",
        "outputId": "2b88d3da-a766-4fc2-e80e-2e4da027eae5",
        "colab": {
          "base_uri": "https://localhost:8080/",
          "height": 660
        }
      },
      "source": [
        "model.fit(\n",
        "        X_train, y_train2,\n",
        "        epochs=300,\n",
        "        validation_data=(X_test, y_test2),\n",
        "        verbose = 1,\n",
        "        callbacks= callback_list)"
      ],
      "execution_count": 0,
      "outputs": [
        {
          "output_type": "stream",
          "text": [
            "Train on 19375 samples, validate on 625 samples\n",
            "Epoch 1/300\n",
            "19375/19375 [==============================] - 43s 2ms/step - loss: 0.9810 - accuracy: 0.5806 - val_loss: 0.8496 - val_accuracy: 0.6640\n",
            "\n",
            "Epoch 00001: val_accuracy improved from -inf to 0.66400, saving model to best_V1_3.h5\n",
            "Epoch 2/300\n",
            "   64/19375 [..............................] - ETA: 43s - loss: 1.0600 - accuracy: 0.5625"
          ],
          "name": "stdout"
        },
        {
          "output_type": "stream",
          "text": [
            "/usr/local/lib/python3.6/dist-packages/keras/callbacks/callbacks.py:846: RuntimeWarning: Early stopping conditioned on metric `val_acc` which is not available. Available metrics are: val_loss,val_accuracy,loss,accuracy\n",
            "  (self.monitor, ','.join(list(logs.keys()))), RuntimeWarning\n"
          ],
          "name": "stderr"
        },
        {
          "output_type": "stream",
          "text": [
            "19375/19375 [==============================] - 43s 2ms/step - loss: 0.8585 - accuracy: 0.6328 - val_loss: 0.7961 - val_accuracy: 0.6480\n",
            "\n",
            "Epoch 00002: val_accuracy did not improve from 0.66400\n",
            "Epoch 3/300\n",
            "19375/19375 [==============================] - 43s 2ms/step - loss: 0.8210 - accuracy: 0.6505 - val_loss: 0.7206 - val_accuracy: 0.6624\n",
            "\n",
            "Epoch 00003: val_accuracy did not improve from 0.66400\n",
            "Epoch 4/300\n",
            "18624/19375 [===========================>..] - ETA: 1s - loss: 0.7857 - accuracy: 0.6622"
          ],
          "name": "stdout"
        },
        {
          "output_type": "error",
          "ename": "KeyboardInterrupt",
          "evalue": "ignored",
          "traceback": [
            "\u001b[0;31m---------------------------------------------------------------------------\u001b[0m",
            "\u001b[0;31mKeyboardInterrupt\u001b[0m                         Traceback (most recent call last)",
            "\u001b[0;32m<ipython-input-235-7af6dad9bf24>\u001b[0m in \u001b[0;36m<module>\u001b[0;34m()\u001b[0m\n\u001b[1;32m      4\u001b[0m         \u001b[0mvalidation_data\u001b[0m\u001b[0;34m=\u001b[0m\u001b[0;34m(\u001b[0m\u001b[0mX_test\u001b[0m\u001b[0;34m,\u001b[0m \u001b[0my_test2\u001b[0m\u001b[0;34m)\u001b[0m\u001b[0;34m,\u001b[0m\u001b[0;34m\u001b[0m\u001b[0;34m\u001b[0m\u001b[0m\n\u001b[1;32m      5\u001b[0m         \u001b[0mverbose\u001b[0m \u001b[0;34m=\u001b[0m \u001b[0;36m1\u001b[0m\u001b[0;34m,\u001b[0m\u001b[0;34m\u001b[0m\u001b[0;34m\u001b[0m\u001b[0m\n\u001b[0;32m----> 6\u001b[0;31m         callbacks= callback_list)\n\u001b[0m",
            "\u001b[0;32m/usr/local/lib/python3.6/dist-packages/keras/engine/training.py\u001b[0m in \u001b[0;36mfit\u001b[0;34m(self, x, y, batch_size, epochs, verbose, callbacks, validation_split, validation_data, shuffle, class_weight, sample_weight, initial_epoch, steps_per_epoch, validation_steps, validation_freq, max_queue_size, workers, use_multiprocessing, **kwargs)\u001b[0m\n\u001b[1;32m   1237\u001b[0m                                         \u001b[0msteps_per_epoch\u001b[0m\u001b[0;34m=\u001b[0m\u001b[0msteps_per_epoch\u001b[0m\u001b[0;34m,\u001b[0m\u001b[0;34m\u001b[0m\u001b[0;34m\u001b[0m\u001b[0m\n\u001b[1;32m   1238\u001b[0m                                         \u001b[0mvalidation_steps\u001b[0m\u001b[0;34m=\u001b[0m\u001b[0mvalidation_steps\u001b[0m\u001b[0;34m,\u001b[0m\u001b[0;34m\u001b[0m\u001b[0;34m\u001b[0m\u001b[0m\n\u001b[0;32m-> 1239\u001b[0;31m                                         validation_freq=validation_freq)\n\u001b[0m\u001b[1;32m   1240\u001b[0m \u001b[0;34m\u001b[0m\u001b[0m\n\u001b[1;32m   1241\u001b[0m     def evaluate(self,\n",
            "\u001b[0;32m/usr/local/lib/python3.6/dist-packages/keras/engine/training_arrays.py\u001b[0m in \u001b[0;36mfit_loop\u001b[0;34m(model, fit_function, fit_inputs, out_labels, batch_size, epochs, verbose, callbacks, val_function, val_inputs, shuffle, initial_epoch, steps_per_epoch, validation_steps, validation_freq)\u001b[0m\n\u001b[1;32m    194\u001b[0m                     \u001b[0mins_batch\u001b[0m\u001b[0;34m[\u001b[0m\u001b[0mi\u001b[0m\u001b[0;34m]\u001b[0m \u001b[0;34m=\u001b[0m \u001b[0mins_batch\u001b[0m\u001b[0;34m[\u001b[0m\u001b[0mi\u001b[0m\u001b[0;34m]\u001b[0m\u001b[0;34m.\u001b[0m\u001b[0mtoarray\u001b[0m\u001b[0;34m(\u001b[0m\u001b[0;34m)\u001b[0m\u001b[0;34m\u001b[0m\u001b[0;34m\u001b[0m\u001b[0m\n\u001b[1;32m    195\u001b[0m \u001b[0;34m\u001b[0m\u001b[0m\n\u001b[0;32m--> 196\u001b[0;31m                 \u001b[0mouts\u001b[0m \u001b[0;34m=\u001b[0m \u001b[0mfit_function\u001b[0m\u001b[0;34m(\u001b[0m\u001b[0mins_batch\u001b[0m\u001b[0;34m)\u001b[0m\u001b[0;34m\u001b[0m\u001b[0;34m\u001b[0m\u001b[0m\n\u001b[0m\u001b[1;32m    197\u001b[0m                 \u001b[0mouts\u001b[0m \u001b[0;34m=\u001b[0m \u001b[0mto_list\u001b[0m\u001b[0;34m(\u001b[0m\u001b[0mouts\u001b[0m\u001b[0;34m)\u001b[0m\u001b[0;34m\u001b[0m\u001b[0;34m\u001b[0m\u001b[0m\n\u001b[1;32m    198\u001b[0m                 \u001b[0;32mfor\u001b[0m \u001b[0ml\u001b[0m\u001b[0;34m,\u001b[0m \u001b[0mo\u001b[0m \u001b[0;32min\u001b[0m \u001b[0mzip\u001b[0m\u001b[0;34m(\u001b[0m\u001b[0mout_labels\u001b[0m\u001b[0;34m,\u001b[0m \u001b[0mouts\u001b[0m\u001b[0;34m)\u001b[0m\u001b[0;34m:\u001b[0m\u001b[0;34m\u001b[0m\u001b[0;34m\u001b[0m\u001b[0m\n",
            "\u001b[0;32m/usr/local/lib/python3.6/dist-packages/tensorflow/python/keras/backend.py\u001b[0m in \u001b[0;36m__call__\u001b[0;34m(self, inputs)\u001b[0m\n\u001b[1;32m   3790\u001b[0m         \u001b[0mvalue\u001b[0m \u001b[0;34m=\u001b[0m \u001b[0mmath_ops\u001b[0m\u001b[0;34m.\u001b[0m\u001b[0mcast\u001b[0m\u001b[0;34m(\u001b[0m\u001b[0mvalue\u001b[0m\u001b[0;34m,\u001b[0m \u001b[0mtensor\u001b[0m\u001b[0;34m.\u001b[0m\u001b[0mdtype\u001b[0m\u001b[0;34m)\u001b[0m\u001b[0;34m\u001b[0m\u001b[0;34m\u001b[0m\u001b[0m\n\u001b[1;32m   3791\u001b[0m       \u001b[0mconverted_inputs\u001b[0m\u001b[0;34m.\u001b[0m\u001b[0mappend\u001b[0m\u001b[0;34m(\u001b[0m\u001b[0mvalue\u001b[0m\u001b[0;34m)\u001b[0m\u001b[0;34m\u001b[0m\u001b[0;34m\u001b[0m\u001b[0m\n\u001b[0;32m-> 3792\u001b[0;31m     \u001b[0moutputs\u001b[0m \u001b[0;34m=\u001b[0m \u001b[0mself\u001b[0m\u001b[0;34m.\u001b[0m\u001b[0m_graph_fn\u001b[0m\u001b[0;34m(\u001b[0m\u001b[0;34m*\u001b[0m\u001b[0mconverted_inputs\u001b[0m\u001b[0;34m)\u001b[0m\u001b[0;34m\u001b[0m\u001b[0;34m\u001b[0m\u001b[0m\n\u001b[0m\u001b[1;32m   3793\u001b[0m \u001b[0;34m\u001b[0m\u001b[0m\n\u001b[1;32m   3794\u001b[0m     \u001b[0;31m# EagerTensor.numpy() will often make a copy to ensure memory safety.\u001b[0m\u001b[0;34m\u001b[0m\u001b[0;34m\u001b[0m\u001b[0;34m\u001b[0m\u001b[0m\n",
            "\u001b[0;32m/usr/local/lib/python3.6/dist-packages/tensorflow/python/eager/function.py\u001b[0m in \u001b[0;36m__call__\u001b[0;34m(self, *args, **kwargs)\u001b[0m\n\u001b[1;32m   1603\u001b[0m       \u001b[0mTypeError\u001b[0m\u001b[0;34m:\u001b[0m \u001b[0mFor\u001b[0m \u001b[0minvalid\u001b[0m \u001b[0mpositional\u001b[0m\u001b[0;34m/\u001b[0m\u001b[0mkeyword\u001b[0m \u001b[0margument\u001b[0m \u001b[0mcombinations\u001b[0m\u001b[0;34m.\u001b[0m\u001b[0;34m\u001b[0m\u001b[0;34m\u001b[0m\u001b[0m\n\u001b[1;32m   1604\u001b[0m     \"\"\"\n\u001b[0;32m-> 1605\u001b[0;31m     \u001b[0;32mreturn\u001b[0m \u001b[0mself\u001b[0m\u001b[0;34m.\u001b[0m\u001b[0m_call_impl\u001b[0m\u001b[0;34m(\u001b[0m\u001b[0margs\u001b[0m\u001b[0;34m,\u001b[0m \u001b[0mkwargs\u001b[0m\u001b[0;34m)\u001b[0m\u001b[0;34m\u001b[0m\u001b[0;34m\u001b[0m\u001b[0m\n\u001b[0m\u001b[1;32m   1606\u001b[0m \u001b[0;34m\u001b[0m\u001b[0m\n\u001b[1;32m   1607\u001b[0m   \u001b[0;32mdef\u001b[0m \u001b[0m_call_impl\u001b[0m\u001b[0;34m(\u001b[0m\u001b[0mself\u001b[0m\u001b[0;34m,\u001b[0m \u001b[0margs\u001b[0m\u001b[0;34m,\u001b[0m \u001b[0mkwargs\u001b[0m\u001b[0;34m,\u001b[0m \u001b[0mcancellation_manager\u001b[0m\u001b[0;34m=\u001b[0m\u001b[0;32mNone\u001b[0m\u001b[0;34m)\u001b[0m\u001b[0;34m:\u001b[0m\u001b[0;34m\u001b[0m\u001b[0;34m\u001b[0m\u001b[0m\n",
            "\u001b[0;32m/usr/local/lib/python3.6/dist-packages/tensorflow/python/eager/function.py\u001b[0m in \u001b[0;36m_call_impl\u001b[0;34m(self, args, kwargs, cancellation_manager)\u001b[0m\n\u001b[1;32m   1643\u001b[0m       raise TypeError(\"Keyword arguments {} unknown. Expected {}.\".format(\n\u001b[1;32m   1644\u001b[0m           list(kwargs.keys()), list(self._arg_keywords)))\n\u001b[0;32m-> 1645\u001b[0;31m     \u001b[0;32mreturn\u001b[0m \u001b[0mself\u001b[0m\u001b[0;34m.\u001b[0m\u001b[0m_call_flat\u001b[0m\u001b[0;34m(\u001b[0m\u001b[0margs\u001b[0m\u001b[0;34m,\u001b[0m \u001b[0mself\u001b[0m\u001b[0;34m.\u001b[0m\u001b[0mcaptured_inputs\u001b[0m\u001b[0;34m,\u001b[0m \u001b[0mcancellation_manager\u001b[0m\u001b[0;34m)\u001b[0m\u001b[0;34m\u001b[0m\u001b[0;34m\u001b[0m\u001b[0m\n\u001b[0m\u001b[1;32m   1646\u001b[0m \u001b[0;34m\u001b[0m\u001b[0m\n\u001b[1;32m   1647\u001b[0m   \u001b[0;32mdef\u001b[0m \u001b[0m_filtered_call\u001b[0m\u001b[0;34m(\u001b[0m\u001b[0mself\u001b[0m\u001b[0;34m,\u001b[0m \u001b[0margs\u001b[0m\u001b[0;34m,\u001b[0m \u001b[0mkwargs\u001b[0m\u001b[0;34m)\u001b[0m\u001b[0;34m:\u001b[0m\u001b[0;34m\u001b[0m\u001b[0;34m\u001b[0m\u001b[0m\n",
            "\u001b[0;32m/usr/local/lib/python3.6/dist-packages/tensorflow/python/eager/function.py\u001b[0m in \u001b[0;36m_call_flat\u001b[0;34m(self, args, captured_inputs, cancellation_manager)\u001b[0m\n\u001b[1;32m   1744\u001b[0m       \u001b[0;31m# No tape is watching; skip to running the function.\u001b[0m\u001b[0;34m\u001b[0m\u001b[0;34m\u001b[0m\u001b[0;34m\u001b[0m\u001b[0m\n\u001b[1;32m   1745\u001b[0m       return self._build_call_outputs(self._inference_function.call(\n\u001b[0;32m-> 1746\u001b[0;31m           ctx, args, cancellation_manager=cancellation_manager))\n\u001b[0m\u001b[1;32m   1747\u001b[0m     forward_backward = self._select_forward_and_backward_functions(\n\u001b[1;32m   1748\u001b[0m         \u001b[0margs\u001b[0m\u001b[0;34m,\u001b[0m\u001b[0;34m\u001b[0m\u001b[0;34m\u001b[0m\u001b[0m\n",
            "\u001b[0;32m/usr/local/lib/python3.6/dist-packages/tensorflow/python/eager/function.py\u001b[0m in \u001b[0;36mcall\u001b[0;34m(self, ctx, args, cancellation_manager)\u001b[0m\n\u001b[1;32m    596\u001b[0m               \u001b[0minputs\u001b[0m\u001b[0;34m=\u001b[0m\u001b[0margs\u001b[0m\u001b[0;34m,\u001b[0m\u001b[0;34m\u001b[0m\u001b[0;34m\u001b[0m\u001b[0m\n\u001b[1;32m    597\u001b[0m               \u001b[0mattrs\u001b[0m\u001b[0;34m=\u001b[0m\u001b[0mattrs\u001b[0m\u001b[0;34m,\u001b[0m\u001b[0;34m\u001b[0m\u001b[0;34m\u001b[0m\u001b[0m\n\u001b[0;32m--> 598\u001b[0;31m               ctx=ctx)\n\u001b[0m\u001b[1;32m    599\u001b[0m         \u001b[0;32melse\u001b[0m\u001b[0;34m:\u001b[0m\u001b[0;34m\u001b[0m\u001b[0;34m\u001b[0m\u001b[0m\n\u001b[1;32m    600\u001b[0m           outputs = execute.execute_with_cancellation(\n",
            "\u001b[0;32m/usr/local/lib/python3.6/dist-packages/tensorflow/python/eager/execute.py\u001b[0m in \u001b[0;36mquick_execute\u001b[0;34m(op_name, num_outputs, inputs, attrs, ctx, name)\u001b[0m\n\u001b[1;32m     58\u001b[0m     \u001b[0mctx\u001b[0m\u001b[0;34m.\u001b[0m\u001b[0mensure_initialized\u001b[0m\u001b[0;34m(\u001b[0m\u001b[0;34m)\u001b[0m\u001b[0;34m\u001b[0m\u001b[0;34m\u001b[0m\u001b[0m\n\u001b[1;32m     59\u001b[0m     tensors = pywrap_tfe.TFE_Py_Execute(ctx._handle, device_name, op_name,\n\u001b[0;32m---> 60\u001b[0;31m                                         inputs, attrs, num_outputs)\n\u001b[0m\u001b[1;32m     61\u001b[0m   \u001b[0;32mexcept\u001b[0m \u001b[0mcore\u001b[0m\u001b[0;34m.\u001b[0m\u001b[0m_NotOkStatusException\u001b[0m \u001b[0;32mas\u001b[0m \u001b[0me\u001b[0m\u001b[0;34m:\u001b[0m\u001b[0;34m\u001b[0m\u001b[0;34m\u001b[0m\u001b[0m\n\u001b[1;32m     62\u001b[0m     \u001b[0;32mif\u001b[0m \u001b[0mname\u001b[0m \u001b[0;32mis\u001b[0m \u001b[0;32mnot\u001b[0m \u001b[0;32mNone\u001b[0m\u001b[0;34m:\u001b[0m\u001b[0;34m\u001b[0m\u001b[0;34m\u001b[0m\u001b[0m\n",
            "\u001b[0;31mKeyboardInterrupt\u001b[0m: "
          ]
        }
      ]
    },
    {
      "cell_type": "code",
      "metadata": {
        "id": "5GxyYKxZuC-U",
        "colab_type": "code",
        "colab": {}
      },
      "source": [
        "from keras.models import load_model\n",
        "model = load_model('/content/best_V1_4.h5')"
      ],
      "execution_count": 0,
      "outputs": []
    },
    {
      "cell_type": "code",
      "metadata": {
        "id": "uyMzAVTQuGhb",
        "colab_type": "code",
        "colab": {}
      },
      "source": [
        "test_pred = model.predict(X_test)\n",
        "#cf_matrix = confusion_matrix(y_test, test_pred.round())\n",
        "#cf_matrix\n",
        "confusion_matrix(y_test2.argmax(axis =1), test_pred.argmax(axis =1))"
      ],
      "execution_count": 0,
      "outputs": []
    },
    {
      "cell_type": "code",
      "metadata": {
        "id": "6sjzBBDGX39g",
        "colab_type": "code",
        "colab": {}
      },
      "source": [
        "subpred = model.predict(X_sub)"
      ],
      "execution_count": 0,
      "outputs": []
    },
    {
      "cell_type": "markdown",
      "metadata": {
        "id": "Zg3-bk-qTyQB",
        "colab_type": "text"
      },
      "source": [
        ""
      ]
    },
    {
      "cell_type": "code",
      "metadata": {
        "id": "soIHXIYCYRPM",
        "colab_type": "code",
        "colab": {}
      },
      "source": [
        "sub = pd.DataFrame(subpred.argmax(axis = 1))"
      ],
      "execution_count": 0,
      "outputs": []
    },
    {
      "cell_type": "code",
      "metadata": {
        "id": "ZRbzQVuZYY4i",
        "colab_type": "code",
        "colab": {}
      },
      "source": [
        "#sub.to_csv('/content/drive/My Drive/GreatLearning Hackathon /submission_v4.csv')"
      ],
      "execution_count": 0,
      "outputs": []
    },
    {
      "cell_type": "code",
      "metadata": {
        "id": "JxBSdEopdUDP",
        "colab_type": "code",
        "colab": {}
      },
      "source": [
        "from sklearn.metrics import average_precision_score\n",
        "average_precision_score(y_test2, test_pred,  average='weighted')"
      ],
      "execution_count": 0,
      "outputs": []
    },
    {
      "cell_type": "markdown",
      "metadata": {
        "id": "gjOgM2cidVLD",
        "colab_type": "text"
      },
      "source": [
        "Delete "
      ]
    },
    {
      "cell_type": "code",
      "metadata": {
        "id": "sLHqY72Fk23-",
        "colab_type": "code",
        "colab": {}
      },
      "source": [
        "sub_key['greatstone_rating'] = subpred.argmax(axis = 1)\n",
        "predictions = sub_key[['fund_id', 'greatstone_rating']]\n",
        "predictions.head()\n",
        "sample_submission = pd.read_csv(\"/content/drive/My Drive/GreatLearning Hackathon /sample_submission.csv\")\n",
        "sam = pd.concat([sample_submission,predictions]).drop_duplicates(['fund_id'],keep='last')\n",
        "sam.to_csv(\"sample_submission_results_Neural_V5.csv\")"
      ],
      "execution_count": 0,
      "outputs": []
    }
  ]
}